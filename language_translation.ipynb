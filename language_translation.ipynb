{
 "cells": [
  {
   "cell_type": "code",
   "execution_count": 1,
   "metadata": {},
   "outputs": [],
   "source": [
    "import lightning.pytorch as pl\n",
    "from lightning.pytorch.callbacks import ModelCheckpoint\n",
    "from lightning.pytorch.loggers import TensorBoardLogger,CSVLogger\n",
    "import torch\n",
    "import torch.nn as nn\n",
    "import torchmetrics\n",
    "import warnings\n",
    "warnings.filterwarnings(\"ignore\")\n",
    "import logging\n",
    "from torch.optim.lr_scheduler import OneCycleLR\n",
    "import seaborn as sn\n",
    "import pandas as pd"
   ]
  },
  {
   "cell_type": "code",
   "execution_count": 3,
   "metadata": {},
   "outputs": [
    {
     "ename": "ImportError",
     "evalue": "cannot import name 'BilingualDataset' from 'dataset' (/Users/apple/Desktop/Projects/ERA/Session15/ERA-Session-15/dataset.py)",
     "output_type": "error",
     "traceback": [
      "\u001b[0;31m---------------------------------------------------------------------------\u001b[0m",
      "\u001b[0;31mImportError\u001b[0m                               Traceback (most recent call last)",
      "\u001b[1;32m/Users/apple/Desktop/Projects/ERA/Session15/ERA-Session-15/language_translation.ipynb Cell 2\u001b[0m line \u001b[0;36m3\n\u001b[1;32m      <a href='vscode-notebook-cell:/Users/apple/Desktop/Projects/ERA/Session15/ERA-Session-15/language_translation.ipynb#W1sZmlsZQ%3D%3D?line=0'>1</a>\u001b[0m \u001b[39mfrom\u001b[39;00m \u001b[39mmodel\u001b[39;00m \u001b[39mimport\u001b[39;00m build_transformer_block\n\u001b[1;32m      <a href='vscode-notebook-cell:/Users/apple/Desktop/Projects/ERA/Session15/ERA-Session-15/language_translation.ipynb#W1sZmlsZQ%3D%3D?line=1'>2</a>\u001b[0m \u001b[39mfrom\u001b[39;00m \u001b[39mconfig\u001b[39;00m \u001b[39mimport\u001b[39;00m get_config\n\u001b[0;32m----> <a href='vscode-notebook-cell:/Users/apple/Desktop/Projects/ERA/Session15/ERA-Session-15/language_translation.ipynb#W1sZmlsZQ%3D%3D?line=2'>3</a>\u001b[0m \u001b[39mfrom\u001b[39;00m \u001b[39mtrain\u001b[39;00m \u001b[39mimport\u001b[39;00m get_ds\n\u001b[1;32m      <a href='vscode-notebook-cell:/Users/apple/Desktop/Projects/ERA/Session15/ERA-Session-15/language_translation.ipynb#W1sZmlsZQ%3D%3D?line=3'>4</a>\u001b[0m \u001b[39mfrom\u001b[39;00m \u001b[39mtransformers\u001b[39;00m \u001b[39mimport\u001b[39;00m DataCollatorWithPadding\n\u001b[1;32m      <a href='vscode-notebook-cell:/Users/apple/Desktop/Projects/ERA/Session15/ERA-Session-15/language_translation.ipynb#W1sZmlsZQ%3D%3D?line=6'>7</a>\u001b[0m warnings\u001b[39m.\u001b[39mfilterwarnings(\u001b[39m\"\u001b[39m\u001b[39mignore\u001b[39m\u001b[39m\"\u001b[39m)\n",
      "File \u001b[0;32m~/Desktop/Projects/ERA/Session15/ERA-Session-15/train.py:2\u001b[0m\n\u001b[1;32m      1\u001b[0m \u001b[39mfrom\u001b[39;00m \u001b[39mmodel\u001b[39;00m \u001b[39mimport\u001b[39;00m build_transformer_block\n\u001b[0;32m----> 2\u001b[0m \u001b[39mfrom\u001b[39;00m \u001b[39mdataset\u001b[39;00m \u001b[39mimport\u001b[39;00m BilingualDataset, casual_mask\n\u001b[1;32m      3\u001b[0m \u001b[39mfrom\u001b[39;00m \u001b[39mconfig\u001b[39;00m \u001b[39mimport\u001b[39;00m get_config, get_weights_file_path\n\u001b[1;32m      5\u001b[0m \u001b[39mimport\u001b[39;00m \u001b[39mtorchtext\u001b[39;00m\u001b[39m.\u001b[39;00m\u001b[39mdatasets\u001b[39;00m \u001b[39mas\u001b[39;00m \u001b[39mdatasets\u001b[39;00m\n",
      "\u001b[0;31mImportError\u001b[0m: cannot import name 'BilingualDataset' from 'dataset' (/Users/apple/Desktop/Projects/ERA/Session15/ERA-Session-15/dataset.py)"
     ]
    }
   ],
   "source": [
    "from model import build_transformer_block\n",
    "from config import get_config\n",
    "from train import get_ds\n",
    "from transformers import DataCollatorWithPadding\n",
    "\n",
    "\n",
    "warnings.filterwarnings(\"ignore\")\n",
    "\n",
    "logger = logging.getLogger(\"Transformer\")\n",
    "logger.setLevel(level=logging.INFO)\n",
    "fileHandler = logging.FileHandler(filename='prediction.log')\n",
    "fileHandler.setLevel(level=logging.INFO)\n",
    "logger.addHandler(fileHandler)\n",
    "\n",
    "cfg = get_config()\n",
    "cfg['preload'] = None\n",
    "cfg['num_epochs'] = 40\n",
    "cfg['batch_size'] = 16"
   ]
  },
  {
   "cell_type": "code",
   "execution_count": null,
   "metadata": {},
   "outputs": [],
   "source": []
  }
 ],
 "metadata": {
  "kernelspec": {
   "display_name": "torch",
   "language": "python",
   "name": "python3"
  },
  "language_info": {
   "codemirror_mode": {
    "name": "ipython",
    "version": 3
   },
   "file_extension": ".py",
   "mimetype": "text/x-python",
   "name": "python",
   "nbconvert_exporter": "python",
   "pygments_lexer": "ipython3",
   "version": "3.10.12"
  },
  "orig_nbformat": 4
 },
 "nbformat": 4,
 "nbformat_minor": 2
}
