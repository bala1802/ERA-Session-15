{
  "cells": [
    {
      "cell_type": "code",
      "execution_count": null,
      "metadata": {
        "_cell_guid": "b1076dfc-b9ad-4769-8c92-a6c4dae69d19",
        "_uuid": "8f2839f25d086af736a60e9eeb907d3b93b6e0e5",
        "execution": {
          "iopub.execute_input": "2023-09-01T16:46:19.859346Z",
          "iopub.status.busy": "2023-09-01T16:46:19.858369Z",
          "iopub.status.idle": "2023-09-01T16:46:37.115480Z",
          "shell.execute_reply": "2023-09-01T16:46:37.114315Z",
          "shell.execute_reply.started": "2023-09-01T16:46:19.859301Z"
        },
        "id": "2QFyNRTLVBjl",
        "outputId": "9b4a5e48-03b9-41ac-dba6-ebdcc2572fc1",
        "trusted": true
      },
      "outputs": [],
      "source": [
        "# !git clone https://github.com/selvaraj-sembulingam/ERA-V1.git\n",
        "# %cd ERA-V1/Assignments/S15"
      ]
    },
    {
      "cell_type": "code",
      "execution_count": null,
      "metadata": {
        "execution": {
          "iopub.execute_input": "2023-09-01T16:47:07.247830Z",
          "iopub.status.busy": "2023-09-01T16:47:07.247437Z",
          "iopub.status.idle": "2023-09-01T16:47:20.174166Z",
          "shell.execute_reply": "2023-09-01T16:47:20.172890Z",
          "shell.execute_reply.started": "2023-09-01T16:47:07.247801Z"
        },
        "id": "DwMmYSbuVBjo",
        "trusted": true
      },
      "outputs": [],
      "source": [
        "# pip install -q datasets tokenizers torchmetrics pytorch_lightning"
      ]
    },
    {
      "cell_type": "code",
      "execution_count": 1,
      "metadata": {
        "colab": {
          "referenced_widgets": [
            "33b2fe2b5575400c8839c11679398678",
            "aefe9f9c760a4b79a8f9fe052d400b67",
            "1458f7685163401ea94ccfc225d648de",
            "",
            "6c076810ab3644f48908abc5d883db81"
          ]
        },
        "execution": {
          "iopub.execute_input": "2023-09-01T16:47:20.205111Z",
          "iopub.status.busy": "2023-09-01T16:47:20.204668Z",
          "iopub.status.idle": "2023-09-01T19:48:24.290618Z",
          "shell.execute_reply": "2023-09-01T19:48:24.289631Z",
          "shell.execute_reply.started": "2023-09-01T16:47:20.205081Z"
        },
        "id": "6FsPaUpZVBjt",
        "outputId": "95cdf346-4d3b-4e7e-88c0-bdc33f523ef4",
        "trusted": true
      },
      "outputs": [
        {
          "name": "stderr",
          "output_type": "stream",
          "text": [
            "Global seed set to 1\n"
          ]
        },
        {
          "name": "stdout",
          "output_type": "stream",
          "text": [
            "Max length of source sentence: 309\n",
            "Max length of target sentence: 274\n"
          ]
        },
        {
          "name": "stderr",
          "output_type": "stream",
          "text": [
            "Using 16bit Automatic Mixed Precision (AMP)\n",
            "GPU available: True (mps), used: True\n",
            "TPU available: False, using: 0 TPU cores\n",
            "IPU available: False, using: 0 IPUs\n",
            "HPU available: False, using: 0 HPUs\n",
            "Missing logger folder: /Users/apple/Desktop/Projects/ERA/Session15/ERA-Session-15/lightning_logs\n"
          ]
        },
        {
          "name": "stdout",
          "output_type": "stream",
          "text": [
            "Max length of source sentence: 309\n",
            "Max length of target sentence: 274\n"
          ]
        },
        {
          "data": {
            "application/vnd.jupyter.widget-view+json": {
              "model_id": "edb4ccaad941470a8ff5305b9151e873",
              "version_major": 2,
              "version_minor": 0
            },
            "text/plain": [
              "Sanity Checking: 0it [00:00, ?it/s]"
            ]
          },
          "metadata": {},
          "output_type": "display_data"
        },
        {
          "name": "stdout",
          "output_type": "stream",
          "text": [
            "----------\n",
            "    SOURCE: It turns out that the happy couple are a Titular Councillor [A modest rank in the Civil Service.] and a Titular Councilloress!\n",
            "    TARGET: Viene in chiaro che si tratta di una coppia felice: un consigliere titolare e una consiglieressa titolare.\n",
            " PREDICTED: godono godono godono godono godono godono godono godono godono strisciando strisciando strisciando strisciando strisciando strisciando strisciando strisciando circostante circostante godono godono godono godono godono godono godono godono godono godono strisciando strisciando strisciando cranio strisciando cranio godono godono godono godono circostante circostante circostante circostante circostante circostante circostante circostante circostante circostante circostante matrimoniale matrimoniale strisciando strisciando strisciando circostante circostante circostante circostante cranio strisciando circostante matrimoniale circostante circostante cranio cranio cranio strisciando cranio strisciando strisciando circostante circostante circostante circostante strisciando strisciando strisciando strisciando strisciando circostante strisciando strisciando strisciando cranio strisciando cranio cranio cranio cranio cranio cranio cranio cranio cranio cranio cranio cranio cranio circostante godono godono circostante circostante circostante circostante circostante circostante circostante circostante circostante circostante circostante circostante circostante matrimoniale metà circostante circostante metà metà metà cranio metà cranio metà cranio cranio cranio circostante circostante circostante matrimoniale circostante origine godono godono cranio strisciando metà origine godono godono godono godono godono circostante circostante circostante circostante circostante godono cranio strisciando metà cranio venirle circostante circostante godono godono godono godono godono godono godono godono godono godono cranio cranio cranio cranio cranio cranio strisciando strisciando strisciando strisciando strisciando strisciando cranio strisciando cranio cranio cranio cranio cranio cranio cranio cranio strisciando cranio strisciando cranio cranio circostante circostante circostante circostante cranio strisciando cranio strisciando cranio strisciando strisciando strisciando cranio strisciando cranio cranio cranio cranio cranio cranio cranio strisciando staio staio staio staio staio staio staio cranio strisciando staio staio staio matrimoniale metà cranio strisciando cranio staio staio godono staio strisciando strisciando strisciando staio staio staio staio staio staio staio staio staio staio staio staio staio staio staio staio staio staio staio staio staio staio staio staio staio staio staio staio staio staio staio staio staio staio staio staio staio staio staio staio staio staio staio staio staio staio staio inseguivano cranio cranio cranio cranio cranio godono godono godono cranio cranio cranio cranio strisciando venirle staio godono staio cranio cranio cranio cranio cranio ?» staio staio staio godono godono godono staio staio staio staio staio staio staio staio staio staio staio staio staio staio staio staio staio staio staio staio staio staio staio staio staio godono godono godono godono\n",
            "----------\n",
            "    SOURCE: His face brightened.\n",
            "    TARGET: Il viso di lui s’illuminò.\n",
            " PREDICTED: godono godono godono godono godono consigliò consigliò consigliò consigliò circostante consigliò circostante consigliò consigliò consigliò circostante consigliò circostante circostante circostante matrimoniale consigliò circostante consigliò circostante condur condur condur condur matrimoniale circostante matrimoniale condur condur condur condur condur condur condur condur condur condur circostante matrimoniale circostante matrimoniale matrimoniale matrimoniale matrimoniale matrimoniale matrimoniale matrimoniale matrimoniale matrimoniale matrimoniale matrimoniale matrimoniale matrimoniale matrimoniale matrimoniale matrimoniale matrimoniale matrimoniale matrimoniale matrimoniale matrimoniale matrimoniale matrimoniale condur condur condur matrimoniale matrimoniale matrimoniale matrimoniale matrimoniale matrimoniale matrimoniale matrimoniale matrimoniale matrimoniale matrimoniale matrimoniale matrimoniale matrimoniale matrimoniale matrimoniale matrimoniale matrimoniale matrimoniale matrimoniale matrimoniale matrimoniale matrimoniale matrimoniale matrimoniale matrimoniale matrimoniale matrimoniale matrimoniale matrimoniale matrimoniale matrimoniale matrimoniale matrimoniale matrimoniale matrimoniale matrimoniale matrimoniale matrimoniale matrimoniale matrimoniale matrimoniale matrimoniale matrimoniale matrimoniale matrimoniale matrimoniale matrimoniale matrimoniale metà metà metà metà matrimoniale matrimoniale matrimoniale matrimoniale metà matrimoniale matrimoniale matrimoniale matrimoniale matrimoniale matrimoniale matrimoniale matrimoniale matrimoniale matrimoniale matrimoniale matrimoniale metà matrimoniale metà matrimoniale matrimoniale matrimoniale matrimoniale circostante matrimoniale condur condur condur condur condur condur matrimoniale metà matrimoniale metà metà metà metà matrimoniale matrimoniale matrimoniale condur condur condur condur matrimoniale metà metà matrimoniale matrimoniale matrimoniale matrimoniale matrimoniale matrimoniale matrimoniale metà metà metà matrimoniale metà matrimoniale metà matrimoniale matrimoniale matrimoniale matrimoniale matrimoniale metà matrimoniale metà matrimoniale matrimoniale matrimoniale matrimoniale matrimoniale matrimoniale matrimoniale matrimoniale matrimoniale matrimoniale metà condur condur condur matrimoniale matrimoniale matrimoniale matrimoniale matrimoniale matrimoniale matrimoniale matrimoniale matrimoniale matrimoniale matrimoniale matrimoniale matrimoniale matrimoniale matrimoniale matrimoniale matrimoniale matrimoniale matrimoniale matrimoniale matrimoniale matrimoniale matrimoniale matrimoniale metà metà metà metà metà metà matrimoniale metà matrimoniale metà matrimoniale metà metà metà metà metà metà fenomeno fenomeno fenomeno metà metà metà metà metà matrimoniale fenomeno matrimoniale matrimoniale matrimoniale matrimoniale fenomeno fenomeno matrimoniale metà condur matrimoniale matrimoniale metà metà metà metà metà metà metà metà metà matrimoniale matrimoniale matrimoniale matrimoniale matrimoniale matrimoniale matrimoniale matrimoniale matrimoniale matrimoniale metà metà metà metà metà matrimoniale matrimoniale matrimoniale matrimoniale matrimoniale matrimoniale metà condur matrimoniale metà condur condur condur condur toppe toppe toppe toppe matrimoniale metà condur condur condur condur matrimoniale metà matrimoniale metà metà metà metà metà metà martedì metà toppe rivolgersi metà metà metà metà metà metà metà martedì metà martedì metà metà metà metà metà metà metà\n"
          ]
        },
        {
          "data": {
            "application/vnd.jupyter.widget-view+json": {
              "model_id": "0dbf350d1183497e9df36e7949e69a3c",
              "version_major": 2,
              "version_minor": 0
            },
            "text/plain": [
              "Training: 0it [00:00, ?it/s]"
            ]
          },
          "metadata": {},
          "output_type": "display_data"
        },
        {
          "data": {
            "application/vnd.jupyter.widget-view+json": {
              "model_id": "d60ef99b949f48778f6d94ba7d0ab1e5",
              "version_major": 2,
              "version_minor": 0
            },
            "text/plain": [
              "Validation: 0it [00:00, ?it/s]"
            ]
          },
          "metadata": {},
          "output_type": "display_data"
        },
        {
          "name": "stdout",
          "output_type": "stream",
          "text": [
            "----------\n",
            "    SOURCE: 'Yes, but you can't but wish to say good-bye to a man who tried to shoot himself for your sake...'\n",
            "    TARGET: — Già, ma voi non potete non desiderare di perdonare a un uomo che si è sparato per voi....\n",
            " PREDICTED: — Non vi è che non vi è che non vi , ma che non è un ’ altra .\n",
            "----------\n",
            "    SOURCE: And bring back an answer at once,' she told the man..\n",
            "    TARGET: E porta immediatamente la risposta — disse all’inserviente.\n",
            " PREDICTED: E che non è un ’ altra , ma che non è un ’ altra .\n"
          ]
        },
        {
          "data": {
            "application/vnd.jupyter.widget-view+json": {
              "model_id": "d8a0a96de03f43fdb13e2efb9fcae84c",
              "version_major": 2,
              "version_minor": 0
            },
            "text/plain": [
              "Validation: 0it [00:00, ?it/s]"
            ]
          },
          "metadata": {},
          "output_type": "display_data"
        },
        {
          "name": "stdout",
          "output_type": "stream",
          "text": [
            "----------\n",
            "    SOURCE: \"Yes, sir.\"\n",
            "    TARGET: — Sì, signore.\n",
            " PREDICTED: — Sì , signore .\n",
            "----------\n",
            "    SOURCE: There must be none of this sort of thing.\n",
            "    TARGET: Che questo non accada più.\n",
            " PREDICTED: Non si , non si .\n"
          ]
        },
        {
          "data": {
            "application/vnd.jupyter.widget-view+json": {
              "model_id": "d58147ca5df1418180980f528f0e15ad",
              "version_major": 2,
              "version_minor": 0
            },
            "text/plain": [
              "Validation: 0it [00:00, ?it/s]"
            ]
          },
          "metadata": {},
          "output_type": "display_data"
        },
        {
          "name": "stdout",
          "output_type": "stream",
          "text": [
            "----------\n",
            "    SOURCE: The Prince raised his hat and went away with his daughter. 'Oh, oh!' he sighed deeply. 'What poor things!'\n",
            "    TARGET: — Oh, oh — sospirò penosamente; — oh, che disgraziati!\n",
            " PREDICTED: Il principe si voltò a guardare il braccio e si voltò a guardare : — Che cosa c ’ è ? — disse , indicando il principe .\n",
            "----------\n",
            "    SOURCE: Thus lodged, I was not, at least--at the commencement of the night, cold.\n",
            "    TARGET: Così mi accomodai, e da principio non ebbi freddo.\n",
            " PREDICTED: Non potevo , non potevo , e la notte .\n"
          ]
        },
        {
          "data": {
            "application/vnd.jupyter.widget-view+json": {
              "model_id": "3e2daa3c65a14765aa8bf0d0145dfb65",
              "version_major": 2,
              "version_minor": 0
            },
            "text/plain": [
              "Validation: 0it [00:00, ?it/s]"
            ]
          },
          "metadata": {},
          "output_type": "display_data"
        },
        {
          "name": "stdout",
          "output_type": "stream",
          "text": [
            "----------\n",
            "    SOURCE: Their conversation was interrupted by Anna, who had found the men in the billiard-room and brought them back with her to the verandah.\n",
            "    TARGET: La loro conversazione fu interrotta da Anna, che aveva trovato la compagnia degli uomini nella stanza del biliardo e ritornava insieme con loro sulla terrazza.\n",
            " PREDICTED: La conversazione era di Anna , che aveva già già già già già in casa e due , si accostò a loro .\n",
            "----------\n",
            "    SOURCE: And now?\n",
            "    TARGET: E ora?\n",
            " PREDICTED: E allora ?\n"
          ]
        },
        {
          "data": {
            "application/vnd.jupyter.widget-view+json": {
              "model_id": "73115f22e847473da92294db13d46088",
              "version_major": 2,
              "version_minor": 0
            },
            "text/plain": [
              "Validation: 0it [00:00, ?it/s]"
            ]
          },
          "metadata": {},
          "output_type": "display_data"
        },
        {
          "name": "stdout",
          "output_type": "stream",
          "text": [
            "----------\n",
            "    SOURCE: When, having reloaded, Levin went on again, the sun, though still invisible because of the clouds, had already risen.\n",
            "    TARGET: Quando Levin, caricato il fucile, si mosse per andare avanti, il sole, non ancora visibile dietro le piccole nuvole, s’era già levato.\n",
            " PREDICTED: Quando Levin , , Levin , si fermò , e , malgrado la pioggia , si era messa in tutta la terra .\n",
            "----------\n",
            "    SOURCE: He did not know that his behaviour toward Kitty had a name of its own, that it was decoying a girl with no intentions of marrying her, and is one of the evil actions common among brilliant young men like himself.\n",
            "    TARGET: Non sapeva che questo suo modo di agire nei riguardi di Kitty avrebbe potuto chiaramente essere definito un tentativo di adescare una ragazza senza avere alcuna intenzione di sposarla, e che questo adescamento era una delle cattive azioni dei giovani mondani come lui.\n",
            " PREDICTED: Non capiva che Kitty non aveva la sua opinione con Kitty , che non era una ragazza che non era una ragazza di una ragazza , che non si può essere , e che si , come si , come si con la sua .\n"
          ]
        },
        {
          "data": {
            "application/vnd.jupyter.widget-view+json": {
              "model_id": "f9ef1e41d8f14af98c2c927677cacc6e",
              "version_major": 2,
              "version_minor": 0
            },
            "text/plain": [
              "Validation: 0it [00:00, ?it/s]"
            ]
          },
          "metadata": {},
          "output_type": "display_data"
        },
        {
          "name": "stdout",
          "output_type": "stream",
          "text": [
            "----------\n",
            "    SOURCE: 'I? Why should I go?' said Kitty, flushing deeply and glancing round at her husband.\n",
            "    TARGET: — Io? e perché dovrei andare? — disse Kitty, infiammandosi tutta. E si voltò a guardare il marito.\n",
            " PREDICTED: — Perché dovrei andare ? — disse Kitty , arrossendo e , guardando in fretta il marito .\n",
            "----------\n",
            "    SOURCE: \"It is time some one undertook to rehumanise you,\" said I, parting his thick and long uncut locks; \"for I see you are being metamorphosed into a lion, or something of that sort.\n",
            "    TARGET: — È tempo che qualcuno vi faccia riprendere aspetto umano, — dissi, rialzandogli i capelli lunghi e folti, — perché vedo che siete cambiato in leone o in qualche altra fiera.\n",
            " PREDICTED: — È molto tempo per voi , — disse , — e per la sua volontà mi il suo ; ma per un poco che non avete nessuna ragione .\n"
          ]
        },
        {
          "data": {
            "application/vnd.jupyter.widget-view+json": {
              "model_id": "7fd09d0383cc483a83c1bcc3226bac0d",
              "version_major": 2,
              "version_minor": 0
            },
            "text/plain": [
              "Validation: 0it [00:00, ?it/s]"
            ]
          },
          "metadata": {},
          "output_type": "display_data"
        },
        {
          "name": "stdout",
          "output_type": "stream",
          "text": [
            "----------\n",
            "    SOURCE: 'Yes, would have been,' he said sadly. 'He is really one of those of whom it is said, they are not for this world.'\n",
            "    TARGET: — Sì, sareste stati — disse lui triste. — Ecco uno di quegli uomini di cui si dice che non sono fatti per questo mondo.\n",
            " PREDICTED: — Sì , sarebbe stato stato — disse lui . — È una cosa strana , che è una cosa di chi è qui ?\n",
            "----------\n",
            "    SOURCE: \"Well?\" I said, as he again paused--\"proceed.\"\n",
            "    TARGET: — Bene, — dissi, quando tacque, — continuate.\n",
            " PREDICTED: — Ebbene , — dissi , — come ho fatto venire a finire .\n"
          ]
        },
        {
          "data": {
            "application/vnd.jupyter.widget-view+json": {
              "model_id": "686f6ec335b74909b1ce3e2626b2523b",
              "version_major": 2,
              "version_minor": 0
            },
            "text/plain": [
              "Validation: 0it [00:00, ?it/s]"
            ]
          },
          "metadata": {},
          "output_type": "display_data"
        },
        {
          "name": "stdout",
          "output_type": "stream",
          "text": [
            "----------\n",
            "    SOURCE: 'It's coming – the explanation!' she thought and felt frightened.\n",
            "    TARGET: “Eccola, la spiegazione” pensò lei, e n’ebbe paura.\n",
            " PREDICTED: “ È proprio lei , non ha voluto ” pensava e sentiva di nuovo .\n",
            "----------\n",
            "    SOURCE: \"Dear Mrs. Reed,\" said I, as I offered her the draught she required, \"think no more of all this, let it pass away from your mind. Forgive me for my passionate language: I was a child then; eight, nine years have passed since that day.\"\n",
            "    TARGET: — Cara signora Reed, — le dissi offrendole il bicchiere, — non pensate più a quelle cose, cancellatele dalla mente; perdonatemi il linguaggio violento; ero una bimba allora; sono passati otto o nove anni da quel giorno.\n",
            " PREDICTED: — Oh ! signora Reed , — dissi , — come la signora Reed , — e non mi più di più .\n"
          ]
        },
        {
          "data": {
            "application/vnd.jupyter.widget-view+json": {
              "model_id": "c6fbda3d6c684af2981011d00891f52f",
              "version_major": 2,
              "version_minor": 0
            },
            "text/plain": [
              "Validation: 0it [00:00, ?it/s]"
            ]
          },
          "metadata": {},
          "output_type": "display_data"
        },
        {
          "name": "stdout",
          "output_type": "stream",
          "text": [
            "----------\n",
            "    SOURCE: Shall I tell her now?\n",
            "    TARGET: Dirglielo ora?\n",
            " PREDICTED: Lo ?\n",
            "----------\n",
            "    SOURCE: 'Decidedly I am forgetting her,' he thought, remembering what was so soon awaiting them.\n",
            "    TARGET: “Decisamente la trascuro” pensò. E ricordò quello che li attendeva tra poco.\n",
            " PREDICTED: “ Sono felice di averla !» si disse , sentendo che cosa si avvicinava .\n"
          ]
        },
        {
          "data": {
            "application/vnd.jupyter.widget-view+json": {
              "model_id": "9cc52d327970410ea7d919dd917bab0b",
              "version_major": 2,
              "version_minor": 0
            },
            "text/plain": [
              "Validation: 0it [00:00, ?it/s]"
            ]
          },
          "metadata": {},
          "output_type": "display_data"
        },
        {
          "name": "stdout",
          "output_type": "stream",
          "text": [
            "----------\n",
            "    SOURCE: Now then.\n",
            "    TARGET: Ora, avanti.\n",
            " PREDICTED: Ora allora .\n",
            "----------\n",
            "    SOURCE: 'Which, sir?'\n",
            "    TARGET: — Chi volete?\n",
            " PREDICTED: — Chi ?\n"
          ]
        },
        {
          "name": "stderr",
          "output_type": "stream",
          "text": [
            "`Trainer.fit` stopped: `max_epochs=10` reached.\n"
          ]
        }
      ],
      "source": [
        "import torch\n",
        "import warnings\n",
        "import os\n",
        "import pytorch_lightning as pl\n",
        "from pytorch_lightning.callbacks import LearningRateMonitor, ModelCheckpoint\n",
        "from pytorch_lightning import Trainer, seed_everything\n",
        "\n",
        "from datamodule import OpusBookDataModule\n",
        "from litmodel import LightningTransformer\n",
        "from config import get_config\n",
        "cfg = get_config()\n",
        "\n",
        "\n",
        "from model import build_transformer\n",
        "\n",
        "if __name__ == '__main__':\n",
        "  warnings.filterwarnings(\"ignore\")\n",
        "  # torch.cuda.empty_cache()\n",
        "  # os.environ[\"PYTORCH_CUDA_ALLOC_CONF\"] = \"max_split_size_mb:12240\"\n",
        "\n",
        "  pl.seed_everything(1, workers=True)\n",
        "  data_module = OpusBookDataModule(cfg)\n",
        "  tokenizer_src, tokenizer_tgt = data_module.setup(stage=\"None\")\n",
        "  model = build_transformer(\n",
        "        tokenizer_src.get_vocab_size(),\n",
        "        tokenizer_tgt.get_vocab_size(),\n",
        "        cfg[\"seq_len\"],\n",
        "        cfg[\"seq_len\"],\n",
        "        d_model=cfg[\"d_model\"],\n",
        "  )\n",
        "\n",
        "  litmodel = LightningTransformer(model=model, learning_rate=cfg[\"lr\"], tokenizer_src=tokenizer_src, tokenizer_tgt=tokenizer_tgt, max_len=cfg[\"seq_len\"], num_examples=2)\n",
        "\n",
        "\n",
        "  trainer = pl.Trainer(\n",
        "      max_epochs=10,\n",
        "      deterministic=True,\n",
        "      logger=True,\n",
        "      enable_model_summary=False,\n",
        "      log_every_n_steps=1,\n",
        "      precision=16\n",
        "  )\n",
        "  trainer.fit(litmodel, data_module)\n",
        "\n"
      ]
    },
    {
      "cell_type": "code",
      "execution_count": 2,
      "metadata": {
        "execution": {
          "iopub.execute_input": "2023-09-01T19:48:56.911074Z",
          "iopub.status.busy": "2023-09-01T19:48:56.910694Z",
          "iopub.status.idle": "2023-09-01T19:48:57.269767Z",
          "shell.execute_reply": "2023-09-01T19:48:57.268735Z",
          "shell.execute_reply.started": "2023-09-01T19:48:56.911045Z"
        },
        "id": "xKwz2R9xVBju",
        "trusted": true
      },
      "outputs": [],
      "source": [
        "model_filename = \"transformer.pth\"\n",
        "torch.save(\n",
        "            {\n",
        "                \"epoch\": \"1\",\n",
        "                \"model_state_dict\": model.state_dict(),\n",
        "            },\n",
        "            model_filename,\n",
        ")"
      ]
    },
    {
      "cell_type": "code",
      "execution_count": null,
      "metadata": {
        "id": "6pp0GBWCVBju"
      },
      "outputs": [],
      "source": []
    }
  ],
  "metadata": {
    "colab": {
      "provenance": []
    },
    "kernelspec": {
      "display_name": "Python 3",
      "language": "python",
      "name": "python3"
    },
    "language_info": {
      "codemirror_mode": {
        "name": "ipython",
        "version": 3
      },
      "file_extension": ".py",
      "mimetype": "text/x-python",
      "name": "python",
      "nbconvert_exporter": "python",
      "pygments_lexer": "ipython3",
      "version": "3.10.12"
    }
  },
  "nbformat": 4,
  "nbformat_minor": 0
}
